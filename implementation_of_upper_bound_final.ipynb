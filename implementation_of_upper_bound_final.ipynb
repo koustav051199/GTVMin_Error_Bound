{
  "cells": [
    {
      "cell_type": "code",
      "execution_count": 53,
      "id": "510b86fa",
      "metadata": {
        "id": "510b86fa"
      },
      "outputs": [],
      "source": [
        "import numpy as np\n",
        "import networkx as nx\n",
        "from scipy.optimize import minimize\n",
        "import matplotlib.pyplot as plt\n",
        "from sklearn.cluster import SpectralClustering\n",
        "from sklearn.metrics.pairwise import cosine_similarity\n",
        "import statistics as st"
      ]
    },
    {
      "cell_type": "code",
      "execution_count": 54,
      "id": "36025d6f",
      "metadata": {
        "id": "36025d6f"
      },
      "outputs": [],
      "source": [
        "# Example data\n",
        "n = 5  # Number of nodes\n",
        "d = 10  # Dimension of model parameters\n",
        "X = [np.random.rand(10, d) for _ in range(n)]  # Local datasets\n",
        "y = [np.random.rand(10) for _ in range(n)]  # Outputs\n",
        "alpha = 1.0"
      ]
    },
    {
      "cell_type": "code",
      "execution_count": 55,
      "id": "1a7bf8ab",
      "metadata": {
        "colab": {
          "base_uri": "https://localhost:8080/"
        },
        "id": "1a7bf8ab",
        "outputId": "49b588ae-a5dd-4852-9ad5-b1c46c42c2af"
      },
      "outputs": [
        {
          "output_type": "stream",
          "name": "stdout",
          "text": [
            "[[0.         0.24919937 0.23539172 0.24832525 0.23510431]\n",
            " [0.24919937 0.         0.23800007 0.22909724 0.24723442]\n",
            " [0.23539172 0.23800007 0.         0.22627303 0.24809062]\n",
            " [0.24832525 0.22909724 0.22627303 0.         0.21738454]\n",
            " [0.23510431 0.24723442 0.24809062 0.21738454 0.        ]]\n"
          ]
        }
      ],
      "source": [
        "# Compute the similarity matrix based on the datasets\n",
        "similarity_matrix = np.zeros((n, n))\n",
        "for i in range(n):\n",
        "    for j in range(n):\n",
        "        if i != j:\n",
        "            #similarity_matrix[i, j] = cosine_similarity(X[i], X[j]).mean()\n",
        "            similarity_matrix[i, j] = 1 / (np.linalg.norm(X[i] - X[j]))\n",
        "print(similarity_matrix)"
      ]
    },
    {
      "cell_type": "code",
      "execution_count": 56,
      "id": "e7f65d54",
      "metadata": {
        "colab": {
          "base_uri": "https://localhost:8080/"
        },
        "id": "e7f65d54",
        "outputId": "0d1cde99-b90c-404f-d1f4-d23856f8bbcd"
      },
      "outputs": [
        {
          "output_type": "stream",
          "name": "stdout",
          "text": [
            "[1 0 0 1 0]\n"
          ]
        }
      ],
      "source": [
        "# Perform spectral clustering\n",
        "n_clusters = 2  # Number of clusters\n",
        "spectral = SpectralClustering(n_clusters=n_clusters, affinity='precomputed')\n",
        "labels = spectral.fit_predict(similarity_matrix)\n",
        "print(labels)"
      ]
    },
    {
      "cell_type": "code",
      "execution_count": 57,
      "id": "1949c41c",
      "metadata": {
        "colab": {
          "base_uri": "https://localhost:8080/"
        },
        "id": "1949c41c",
        "outputId": "e5eefa3a-cde0-4597-bf11-3dffb11418bd"
      },
      "outputs": [
        {
          "output_type": "stream",
          "name": "stdout",
          "text": [
            "Graph with 5 nodes and 10 edges\n"
          ]
        }
      ],
      "source": [
        "# Create a similarity graph representing the cluster structure\n",
        "G = nx.Graph()\n",
        "for i in range(n):\n",
        "    for j in range(i + 1, n):\n",
        "        if similarity_matrix[i, j] > 0: # Only add edges with positive weights\n",
        "            G.add_edge(i, j, weight=similarity_matrix[i, j])\n",
        "print(G)"
      ]
    },
    {
      "cell_type": "code",
      "execution_count": 58,
      "id": "11d0edf1",
      "metadata": {
        "id": "11d0edf1"
      },
      "outputs": [],
      "source": [
        "# Define the local loss function for each node\n",
        "def local_loss(w, X, y):\n",
        "    return np.sum((y - X @ w) ** 2)"
      ]
    },
    {
      "cell_type": "code",
      "execution_count": 59,
      "id": "092df130",
      "metadata": {
        "id": "092df130"
      },
      "outputs": [],
      "source": [
        "# Define the objective function that includes local loss and total variation\n",
        "def objective(w, X, y, A, alpha, n, d):\n",
        "    w = w.reshape((n, d))\n",
        "    loss = sum(local_loss(w[i], X[i], y[i]) for i in range(n))\n",
        "    tv = 0\n",
        "    for i in range(n):\n",
        "        for j in range(n):\n",
        "            if i != j and A[i, j] > 0:\n",
        "                tv += A[i, j] * np.linalg.norm(w[i] - w[j]) ** 2\n",
        "    return loss + alpha * tv"
      ]
    },
    {
      "cell_type": "code",
      "execution_count": 60,
      "id": "ec50c033",
      "metadata": {
        "id": "ec50c033"
      },
      "outputs": [],
      "source": [
        "def custom_minimize(objective, w_init, args, learning_rate=0.01, max_iter=10):\n",
        "    w = w_init.copy()\n",
        "    n, d = args[3], args[4]\n",
        "\n",
        "    # Aggregate all data points from the nodes in the cluster\n",
        "    X_all = np.vstack(args[0])  # Combine all X datasets in the cluster\n",
        "    y_all = np.hstack(args[1])  # Combine all y datasets in the cluster\n",
        "\n",
        "    for iteration in range(max_iter):\n",
        "        grad = np.zeros_like(w)\n",
        "        w_reshaped = w.reshape((n, d))\n",
        "\n",
        "        # Calculate the loss using the aggregated data for all nodes\n",
        "        loss = sum(local_loss(w_reshaped[i], X_all, y_all) for i in range(n))\n",
        "\n",
        "        # Calculate the gradient of the total variation term\n",
        "        for i in range(n):\n",
        "            for j in range(n):\n",
        "                if i != j and args[2][i, j] > 0:\n",
        "                    grad[i * d: (i + 1) * d] += 2 * args[5] * args[2][i, j] * (w_reshaped[i] - w_reshaped[j])\n",
        "                    grad[j * d: (j + 1) * d] -= 2 * args[5] * args[2][i, j] * (w_reshaped[i] - w_reshaped[j])\n",
        "\n",
        "        # Calculate the gradient of the loss function using the aggregated data\n",
        "        grad_loss = np.zeros_like(w)\n",
        "        for i in range(n):\n",
        "            grad_loss[i * d: (i + 1) * d] = 2 * (X_all.T @ (X_all @ w_reshaped[i] - y_all))\n",
        "\n",
        "        grad += grad_loss\n",
        "\n",
        "        # Update the weights using the gradient\n",
        "        w -= learning_rate * grad\n",
        "\n",
        "        # Check convergence based on the gradient's norm\n",
        "        if np.linalg.norm(grad) < 1e-6:\n",
        "            break\n",
        "\n",
        "    return w\n"
      ]
    },
    {
      "cell_type": "code",
      "execution_count": 61,
      "id": "c69e8217",
      "metadata": {
        "id": "c69e8217"
      },
      "outputs": [],
      "source": [
        "# Function to verify the error bound for each cluster\n",
        "def verify_theorem_1_bound(G, cluster_nodes, w_hat, w_C, epsilon_C, alpha, R):\n",
        "    boundary_edges = [e for e in G.edges if (e[0] in cluster_nodes) != (e[1] in cluster_nodes)]\n",
        "    boundary_size = len(boundary_edges)\n",
        "\n",
        "    sum_squared_norms = sum(np.linalg.norm(w_hat[i] - w_C)**2 for i in range(len(cluster_nodes)))\n",
        "\n",
        "    subgraph = G.subgraph(cluster_nodes)\n",
        "    L_C_matrix = nx.laplacian_matrix(subgraph).toarray()\n",
        "    L_C = np.sort(np.linalg.eigvals(L_C_matrix))[1]\n",
        "\n",
        "    upper_bound = (1 / (alpha * L_C)) * (epsilon_C + alpha * boundary_size * 2 * (np.linalg.norm(w_C)**2 + R**2))\n",
        "\n",
        "    return sum_squared_norms, upper_bound"
      ]
    },
    {
      "cell_type": "code",
      "execution_count": 62,
      "id": "5cc94130",
      "metadata": {
        "id": "5cc94130"
      },
      "outputs": [],
      "source": [
        "# Optimize model parameters for each cluster\n",
        "cluster_parameters = {}\n",
        "for cluster in range(n_clusters):\n",
        "    cluster_nodes = [i for i, label in enumerate(labels) if label == cluster]\n",
        "    X_cluster = [X[i] for i in cluster_nodes]\n",
        "    y_cluster = [y[i] for i in cluster_nodes]\n",
        "    w_init_cluster = np.random.rand(len(cluster_nodes) * d)\n",
        "\n",
        "    similarity_matrix_cluster = similarity_matrix[np.ix_(cluster_nodes, cluster_nodes)]\n",
        "    args_cluster = (X_cluster, y_cluster, similarity_matrix_cluster, len(cluster_nodes), d, alpha)\n",
        "\n",
        "    w_opt_cluster = custom_minimize(objective, w_init_cluster, args_cluster).reshape((len(cluster_nodes), d))\n",
        "    cluster_parameters[cluster] = (cluster_nodes, w_opt_cluster)"
      ]
    },
    {
      "cell_type": "code",
      "execution_count": 63,
      "id": "190924e1",
      "metadata": {
        "colab": {
          "base_uri": "https://localhost:8080/"
        },
        "id": "190924e1",
        "outputId": "e92885a9-007a-48fc-bae4-a1205eb3cb25"
      },
      "outputs": [
        {
          "output_type": "stream",
          "name": "stdout",
          "text": [
            "Optimized model parameters for cluster 0:\n",
            " [[ 0.18453455 -0.05359099  0.24964177  0.31263116 -0.10499886  0.17802411\n",
            "  -0.21324716  0.24829585  0.09410236  0.10849657]\n",
            " [-0.09337751  0.20411126  0.21260085  0.07815752  0.34665771 -0.0476342\n",
            "  -0.16450751  0.53038917  0.02002249 -0.01952143]\n",
            " [ 0.19224426 -0.02548409 -0.1140219   0.39268578 -0.00100435 -0.06619169\n",
            "  -0.23582426  0.33927639  0.37618849  0.19952412]]\n",
            "Optimized model parameters for cluster 1:\n",
            " [[ 0.10753747  0.17872085  0.35917098  0.22888869  0.13015909  0.11808373\n",
            "  -0.15210414 -0.15408006  0.12218548  0.44910362]\n",
            " [ 0.37413976 -0.12539934  0.59130639 -0.08634181  0.01673041  0.44623481\n",
            "  -0.0982906   0.12437233  0.05763166 -0.02344402]]\n"
          ]
        }
      ],
      "source": [
        "# Print optimized parameters for each cluster\n",
        "for cluster, (cluster_nodes, w_opt) in cluster_parameters.items():\n",
        "    print(f\"Optimized model parameters for cluster {cluster}:\\n\", w_opt)"
      ]
    },
    {
      "cell_type": "code",
      "execution_count": 64,
      "id": "bd43f5b1",
      "metadata": {
        "colab": {
          "base_uri": "https://localhost:8080/"
        },
        "id": "bd43f5b1",
        "outputId": "d75e3180-5289-4be6-84ea-43ab6e1ebb22"
      },
      "outputs": [
        {
          "output_type": "stream",
          "name": "stdout",
          "text": [
            "sum of squared deviation is 0.5143046012222968 of cluster 1\n",
            "upper bound on deviation for cluster 1 is 5.239831315299891\n",
            "sum of squared deviation is 0.3726361408765903 of cluster 2\n",
            "upper bound on deviation for cluster 2 is 10.728183895511537\n"
          ]
        }
      ],
      "source": [
        "# Verify the error bound for each cluster and plot the results\n",
        "cluster_sums = []\n",
        "cluster_bounds = []\n",
        "for cluster, (cluster_nodes, w_opt) in cluster_parameters.items():\n",
        "    w_C = np.mean(w_opt, axis=0)  # Cluster-specific parameters as the mean of optimized parameters\n",
        "    epsilon_C = 0.001\n",
        "    R = 0.001\n",
        "\n",
        "    # Verify the bound and get the sum of squared norms and upper bound\n",
        "    sum_squared_norms, upper_bound = verify_theorem_1_bound(G, cluster_nodes, w_opt, w_C, epsilon_C, alpha, R)\n",
        "\n",
        "    cluster_sums.append(sum_squared_norms)\n",
        "    cluster_bounds.append(upper_bound)\n",
        "    print(f'sum of squared deviation is {sum_squared_norms} of cluster {cluster + 1}')\n",
        "    print(f'upper bound on deviation for cluster {cluster +1} is {upper_bound}')"
      ]
    },
    {
      "cell_type": "code",
      "execution_count": 65,
      "id": "52ba075d",
      "metadata": {
        "colab": {
          "base_uri": "https://localhost:8080/",
          "height": 564
        },
        "id": "52ba075d",
        "outputId": "08c15257-a02b-46fd-d426-d7cd62db31c1"
      },
      "outputs": [
        {
          "output_type": "display_data",
          "data": {
            "text/plain": [
              "<Figure size 1000x600 with 1 Axes>"
            ],
            "image/png": "[encoded data removed]"
          },
          "metadata": {}
        }
      ],
      "source": [
        "# Plot the results cluster-wise\n",
        "colors = ['b', 'g', 'r', 'c', 'm', 'y', 'k']\n",
        "plt.figure(figsize=(10, 6))\n",
        "clusters = list(cluster_parameters.keys())\n",
        "\n",
        "clusters = [x + 1 for x in clusters]\n",
        "\n",
        "plt.bar(clusters, cluster_sums, color='b', label='Sum of Squared Norms of Deviations')\n",
        "\n",
        "count = 0\n",
        "for i in cluster_bounds:\n",
        "    count += 1\n",
        "    plt.axhline(y=i, color=colors[count % len(colors)], linestyle='--', label=f'Cluster {count} - Upper Bound')\n",
        "\n",
        "plt.xlabel('Cluster')\n",
        "plt.ylabel('Sum of Squared Norms')\n",
        "plt.xticks(clusters, [str(cluster) for cluster in clusters])\n",
        "plt.title('Verification of Error Bound from Theorem 1 for Each Cluster')\n",
        "plt.legend(loc='upper left')\n",
        "plt.show()"
      ]
    },
    {
      "cell_type": "code",
      "execution_count": 65,
      "id": "804c9d24",
      "metadata": {
        "id": "804c9d24"
      },
      "outputs": [],
      "source": []
    }
  ],
  "metadata": {
    "kernelspec": {
      "display_name": "Python 3 (ipykernel)",
      "language": "python",
      "name": "python3"
    },
    "language_info": {
      "codemirror_mode": {
        "name": "ipython",
        "version": 3
      },
      "file_extension": ".py",
      "mimetype": "text/x-python",
      "name": "python",
      "nbconvert_exporter": "python",
      "pygments_lexer": "ipython3",
      "version": "3.9.17"
    },
    "colab": {
      "provenance": []
    }
  },
  "nbformat": 4,
  "nbformat_minor": 5
}